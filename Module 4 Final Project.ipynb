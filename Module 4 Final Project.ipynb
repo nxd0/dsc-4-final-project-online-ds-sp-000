{
 "cells": [
  {
   "cell_type": "markdown",
   "metadata": {},
   "source": [
    "### Module 4: Final Project Submission\n",
    "\n",
    "# Predicting Flight Delays with Neural Networks\n",
    "\n",
    "Noah X. Deutsch (Self-Paced Data Science)\n",
    "\n",
    "\n",
    "## Project Overview\n",
    "For this project, I set out to answer the following question:  Can we accurately predict whether or not a flight will be delayed using Neural Networks? I chose this question after stumbling upon a large Kaggle dataset, which proceeded to clean, explore and model with a number of different Neural Network variations. Ultimately, I was able to predict whether a flight would arrive on time with roughly 93% accuracy.\n",
    "\n",
    "\n",
    "## My Approach\n",
    "### Obtain √\n",
    "- From Kaggle\n",
    "\n",
    "### Scrub √\n",
    "- Creating our predictor variables\n",
    "- Dealing with Null Values\n",
    "- Normalizing our data\n",
    "- Train test split\n",
    "- Validation split\n",
    "\n",
    "### Explore √\n",
    "- Visualizing some relationships between target and predictor variables\n",
    "\n",
    "### Model, Compare, and Refine √\n",
    "- Fit baseline NN model\n",
    "- Experiment with regularization\n",
    "- Compare results\n",
    "- Comparing to other model types\n",
    "\n",
    "### Interpret √\n",
    "- Draw conclusions"
   ]
  },
  {
   "cell_type": "markdown",
   "metadata": {},
   "source": [
    "---\n",
    "## Obtain\n",
    "\n",
    "Original dataset:\n",
    "https://www.kaggle.com/divyansh22/flight-delay-prediction?select=Jan_2020_ontime.csv"
   ]
  },
  {
   "cell_type": "code",
   "execution_count": 87,
   "metadata": {},
   "outputs": [],
   "source": [
    "#importing our data\n",
    "\n",
    "import numpy as np\n",
    "import pandas as pd\n",
    "import matplotlib.pyplot as plt\n",
    "\n",
    "file = 'Jan_2020_ontime.csv'\n",
    "\n",
    "df = pd.read_csv(file)"
   ]
  },
  {
   "cell_type": "code",
   "execution_count": 2,
   "metadata": {},
   "outputs": [
    {
     "name": "stdout",
     "output_type": "stream",
     "text": [
      "<class 'pandas.core.frame.DataFrame'>\n",
      "RangeIndex: 607346 entries, 0 to 607345\n",
      "Data columns (total 22 columns):\n",
      "DAY_OF_MONTH             607346 non-null int64\n",
      "DAY_OF_WEEK              607346 non-null int64\n",
      "OP_UNIQUE_CARRIER        607346 non-null object\n",
      "OP_CARRIER_AIRLINE_ID    607346 non-null int64\n",
      "OP_CARRIER               607346 non-null object\n",
      "TAIL_NUM                 606648 non-null object\n",
      "OP_CARRIER_FL_NUM        607346 non-null int64\n",
      "ORIGIN_AIRPORT_ID        607346 non-null int64\n",
      "ORIGIN_AIRPORT_SEQ_ID    607346 non-null int64\n",
      "ORIGIN                   607346 non-null object\n",
      "DEST_AIRPORT_ID          607346 non-null int64\n",
      "DEST_AIRPORT_SEQ_ID      607346 non-null int64\n",
      "DEST                     607346 non-null object\n",
      "DEP_TIME                 600682 non-null float64\n",
      "DEP_DEL15                600647 non-null float64\n",
      "DEP_TIME_BLK             607346 non-null object\n",
      "ARR_TIME                 600271 non-null float64\n",
      "ARR_DEL15                599268 non-null float64\n",
      "CANCELLED                607346 non-null float64\n",
      "DIVERTED                 607346 non-null float64\n",
      "DISTANCE                 607346 non-null float64\n",
      "Unnamed: 21              0 non-null float64\n",
      "dtypes: float64(8), int64(8), object(6)\n",
      "memory usage: 101.9+ MB\n"
     ]
    }
   ],
   "source": [
    "df.info()"
   ]
  },
  {
   "cell_type": "code",
   "execution_count": 3,
   "metadata": {},
   "outputs": [
    {
     "data": {
      "text/plain": [
       "(607346, 22)"
      ]
     },
     "execution_count": 3,
     "metadata": {},
     "output_type": "execute_result"
    }
   ],
   "source": [
    "df.shape"
   ]
  },
  {
   "cell_type": "code",
   "execution_count": 4,
   "metadata": {
    "scrolled": true
   },
   "outputs": [
    {
     "data": {
      "text/html": [
       "<div>\n",
       "<style scoped>\n",
       "    .dataframe tbody tr th:only-of-type {\n",
       "        vertical-align: middle;\n",
       "    }\n",
       "\n",
       "    .dataframe tbody tr th {\n",
       "        vertical-align: top;\n",
       "    }\n",
       "\n",
       "    .dataframe thead th {\n",
       "        text-align: right;\n",
       "    }\n",
       "</style>\n",
       "<table border=\"1\" class=\"dataframe\">\n",
       "  <thead>\n",
       "    <tr style=\"text-align: right;\">\n",
       "      <th></th>\n",
       "      <th>DAY_OF_MONTH</th>\n",
       "      <th>DAY_OF_WEEK</th>\n",
       "      <th>OP_UNIQUE_CARRIER</th>\n",
       "      <th>OP_CARRIER_AIRLINE_ID</th>\n",
       "      <th>OP_CARRIER</th>\n",
       "      <th>TAIL_NUM</th>\n",
       "      <th>OP_CARRIER_FL_NUM</th>\n",
       "      <th>ORIGIN_AIRPORT_ID</th>\n",
       "      <th>ORIGIN_AIRPORT_SEQ_ID</th>\n",
       "      <th>ORIGIN</th>\n",
       "      <th>...</th>\n",
       "      <th>DEST</th>\n",
       "      <th>DEP_TIME</th>\n",
       "      <th>DEP_DEL15</th>\n",
       "      <th>DEP_TIME_BLK</th>\n",
       "      <th>ARR_TIME</th>\n",
       "      <th>ARR_DEL15</th>\n",
       "      <th>CANCELLED</th>\n",
       "      <th>DIVERTED</th>\n",
       "      <th>DISTANCE</th>\n",
       "      <th>Unnamed: 21</th>\n",
       "    </tr>\n",
       "  </thead>\n",
       "  <tbody>\n",
       "    <tr>\n",
       "      <th>0</th>\n",
       "      <td>1</td>\n",
       "      <td>3</td>\n",
       "      <td>EV</td>\n",
       "      <td>20366</td>\n",
       "      <td>EV</td>\n",
       "      <td>N48901</td>\n",
       "      <td>4397</td>\n",
       "      <td>13930</td>\n",
       "      <td>1393007</td>\n",
       "      <td>ORD</td>\n",
       "      <td>...</td>\n",
       "      <td>GRB</td>\n",
       "      <td>1003.0</td>\n",
       "      <td>0.0</td>\n",
       "      <td>1000-1059</td>\n",
       "      <td>1117.0</td>\n",
       "      <td>0.0</td>\n",
       "      <td>0.0</td>\n",
       "      <td>0.0</td>\n",
       "      <td>174.0</td>\n",
       "      <td>NaN</td>\n",
       "    </tr>\n",
       "    <tr>\n",
       "      <th>1</th>\n",
       "      <td>1</td>\n",
       "      <td>3</td>\n",
       "      <td>EV</td>\n",
       "      <td>20366</td>\n",
       "      <td>EV</td>\n",
       "      <td>N16976</td>\n",
       "      <td>4401</td>\n",
       "      <td>15370</td>\n",
       "      <td>1537002</td>\n",
       "      <td>TUL</td>\n",
       "      <td>...</td>\n",
       "      <td>ORD</td>\n",
       "      <td>1027.0</td>\n",
       "      <td>0.0</td>\n",
       "      <td>1000-1059</td>\n",
       "      <td>1216.0</td>\n",
       "      <td>0.0</td>\n",
       "      <td>0.0</td>\n",
       "      <td>0.0</td>\n",
       "      <td>585.0</td>\n",
       "      <td>NaN</td>\n",
       "    </tr>\n",
       "    <tr>\n",
       "      <th>2</th>\n",
       "      <td>1</td>\n",
       "      <td>3</td>\n",
       "      <td>EV</td>\n",
       "      <td>20366</td>\n",
       "      <td>EV</td>\n",
       "      <td>N12167</td>\n",
       "      <td>4404</td>\n",
       "      <td>11618</td>\n",
       "      <td>1161802</td>\n",
       "      <td>EWR</td>\n",
       "      <td>...</td>\n",
       "      <td>TYS</td>\n",
       "      <td>1848.0</td>\n",
       "      <td>0.0</td>\n",
       "      <td>1800-1859</td>\n",
       "      <td>2120.0</td>\n",
       "      <td>0.0</td>\n",
       "      <td>0.0</td>\n",
       "      <td>0.0</td>\n",
       "      <td>631.0</td>\n",
       "      <td>NaN</td>\n",
       "    </tr>\n",
       "    <tr>\n",
       "      <th>3</th>\n",
       "      <td>1</td>\n",
       "      <td>3</td>\n",
       "      <td>EV</td>\n",
       "      <td>20366</td>\n",
       "      <td>EV</td>\n",
       "      <td>N14902</td>\n",
       "      <td>4405</td>\n",
       "      <td>10781</td>\n",
       "      <td>1078105</td>\n",
       "      <td>BTR</td>\n",
       "      <td>...</td>\n",
       "      <td>IAH</td>\n",
       "      <td>1846.0</td>\n",
       "      <td>0.0</td>\n",
       "      <td>1800-1859</td>\n",
       "      <td>2004.0</td>\n",
       "      <td>0.0</td>\n",
       "      <td>0.0</td>\n",
       "      <td>0.0</td>\n",
       "      <td>253.0</td>\n",
       "      <td>NaN</td>\n",
       "    </tr>\n",
       "    <tr>\n",
       "      <th>4</th>\n",
       "      <td>1</td>\n",
       "      <td>3</td>\n",
       "      <td>EV</td>\n",
       "      <td>20366</td>\n",
       "      <td>EV</td>\n",
       "      <td>N606UX</td>\n",
       "      <td>4407</td>\n",
       "      <td>14524</td>\n",
       "      <td>1452401</td>\n",
       "      <td>RIC</td>\n",
       "      <td>...</td>\n",
       "      <td>IAH</td>\n",
       "      <td>1038.0</td>\n",
       "      <td>0.0</td>\n",
       "      <td>1000-1059</td>\n",
       "      <td>1330.0</td>\n",
       "      <td>0.0</td>\n",
       "      <td>0.0</td>\n",
       "      <td>0.0</td>\n",
       "      <td>1157.0</td>\n",
       "      <td>NaN</td>\n",
       "    </tr>\n",
       "  </tbody>\n",
       "</table>\n",
       "<p>5 rows × 22 columns</p>\n",
       "</div>"
      ],
      "text/plain": [
       "   DAY_OF_MONTH  DAY_OF_WEEK OP_UNIQUE_CARRIER  OP_CARRIER_AIRLINE_ID  \\\n",
       "0             1            3                EV                  20366   \n",
       "1             1            3                EV                  20366   \n",
       "2             1            3                EV                  20366   \n",
       "3             1            3                EV                  20366   \n",
       "4             1            3                EV                  20366   \n",
       "\n",
       "  OP_CARRIER TAIL_NUM  OP_CARRIER_FL_NUM  ORIGIN_AIRPORT_ID  \\\n",
       "0         EV   N48901               4397              13930   \n",
       "1         EV   N16976               4401              15370   \n",
       "2         EV   N12167               4404              11618   \n",
       "3         EV   N14902               4405              10781   \n",
       "4         EV   N606UX               4407              14524   \n",
       "\n",
       "   ORIGIN_AIRPORT_SEQ_ID ORIGIN     ...       DEST  DEP_TIME DEP_DEL15  \\\n",
       "0                1393007    ORD     ...        GRB    1003.0       0.0   \n",
       "1                1537002    TUL     ...        ORD    1027.0       0.0   \n",
       "2                1161802    EWR     ...        TYS    1848.0       0.0   \n",
       "3                1078105    BTR     ...        IAH    1846.0       0.0   \n",
       "4                1452401    RIC     ...        IAH    1038.0       0.0   \n",
       "\n",
       "   DEP_TIME_BLK  ARR_TIME ARR_DEL15  CANCELLED  DIVERTED  DISTANCE  \\\n",
       "0     1000-1059    1117.0       0.0        0.0       0.0     174.0   \n",
       "1     1000-1059    1216.0       0.0        0.0       0.0     585.0   \n",
       "2     1800-1859    2120.0       0.0        0.0       0.0     631.0   \n",
       "3     1800-1859    2004.0       0.0        0.0       0.0     253.0   \n",
       "4     1000-1059    1330.0       0.0        0.0       0.0    1157.0   \n",
       "\n",
       "   Unnamed: 21  \n",
       "0          NaN  \n",
       "1          NaN  \n",
       "2          NaN  \n",
       "3          NaN  \n",
       "4          NaN  \n",
       "\n",
       "[5 rows x 22 columns]"
      ]
     },
     "execution_count": 4,
     "metadata": {},
     "output_type": "execute_result"
    }
   ],
   "source": [
    "df.head()"
   ]
  },
  {
   "cell_type": "code",
   "execution_count": 88,
   "metadata": {},
   "outputs": [
    {
     "data": {
      "text/plain": [
       "0.0    516983\n",
       "1.0     82285\n",
       "Name: ARR_DEL15, dtype: int64"
      ]
     },
     "execution_count": 88,
     "metadata": {},
     "output_type": "execute_result"
    }
   ],
   "source": [
    "#Our target is heavily skewed – \n",
    "#We'll have to keep this in mind when thinking about the accuracy of our models later on\n",
    "\n",
    "df.ARR_DEL15.value_counts()"
   ]
  },
  {
   "cell_type": "code",
   "execution_count": 6,
   "metadata": {},
   "outputs": [
    {
     "data": {
      "text/plain": [
       "0.8626908161290108"
      ]
     },
     "execution_count": 6,
     "metadata": {},
     "output_type": "execute_result"
    }
   ],
   "source": [
    "#86% of flights are not delayed upon arrival\n",
    "516983/(516983+82285)"
   ]
  },
  {
   "cell_type": "markdown",
   "metadata": {},
   "source": [
    "---\n",
    "## Scrub"
   ]
  },
  {
   "cell_type": "code",
   "execution_count": 7,
   "metadata": {},
   "outputs": [],
   "source": [
    "#We'll start by dropping all the columns we don't need\n",
    "\n",
    "df = df.drop(['DAY_OF_MONTH'],axis = 1) #all values are 1...\n",
    "df = df.drop(['OP_CARRIER_AIRLINE_ID'],axis = 1) #we have 3 different columns with the same data here, so dropping 2\n",
    "df = df.drop(['OP_CARRIER'],axis = 1) #we have 3 different columns with the same data here, so dropping 2\n",
    "\n",
    "df = df.drop(['ORIGIN_AIRPORT_SEQ_ID'],axis = 1) #we have 3 different columns with the same data here, so dropping 2\n",
    "df = df.drop(['ORIGIN'],axis = 1) #we have 3 different columns with the same data here, so dropping 2\n",
    "\n",
    "df = df.drop(['DEST_AIRPORT_SEQ_ID'],axis = 1) #we have 3 different columns with the same data here, so dropping 2\n",
    "df = df.drop(['DEST'],axis = 1) #we have 3 different columns with the same data here, so dropping 2\n",
    "\n",
    "df = df.drop(['DEP_TIME_BLK'],axis = 1) #we'll stick with departure time\n",
    "\n",
    "df = df.drop(['ARR_TIME'],axis = 1) #we 'cant know this' in advance\n",
    "\n",
    "df = df.drop(['Unnamed: 21'],axis = 1) #not sure what this is"
   ]
  },
  {
   "cell_type": "code",
   "execution_count": 8,
   "metadata": {},
   "outputs": [
    {
     "name": "stdout",
     "output_type": "stream",
     "text": [
      "<class 'pandas.core.frame.DataFrame'>\n",
      "RangeIndex: 607346 entries, 0 to 607345\n",
      "Data columns (total 12 columns):\n",
      "DAY_OF_WEEK          607346 non-null int64\n",
      "OP_UNIQUE_CARRIER    607346 non-null object\n",
      "TAIL_NUM             606648 non-null object\n",
      "OP_CARRIER_FL_NUM    607346 non-null int64\n",
      "ORIGIN_AIRPORT_ID    607346 non-null int64\n",
      "DEST_AIRPORT_ID      607346 non-null int64\n",
      "DEP_TIME             600682 non-null float64\n",
      "DEP_DEL15            600647 non-null float64\n",
      "ARR_DEL15            599268 non-null float64\n",
      "CANCELLED            607346 non-null float64\n",
      "DIVERTED             607346 non-null float64\n",
      "DISTANCE             607346 non-null float64\n",
      "dtypes: float64(6), int64(4), object(2)\n",
      "memory usage: 55.6+ MB\n"
     ]
    }
   ],
   "source": [
    "df.info()"
   ]
  },
  {
   "cell_type": "code",
   "execution_count": 9,
   "metadata": {},
   "outputs": [
    {
     "name": "stdout",
     "output_type": "stream",
     "text": [
      "0.0    600418\n",
      "1.0      6928\n",
      "Name: CANCELLED, dtype: int64\n",
      "0.0    600418\n",
      "Name: CANCELLED, dtype: int64\n"
     ]
    }
   ],
   "source": [
    "#removing cancelled data and then the column\n",
    "\n",
    "print(df.CANCELLED.value_counts())\n",
    "\n",
    "df = df.loc[df[\"CANCELLED\"]==0]\n",
    "\n",
    "print(df.CANCELLED.value_counts())\n",
    "\n",
    "df = df.drop(['CANCELLED'],axis = 1) "
   ]
  },
  {
   "cell_type": "code",
   "execution_count": 11,
   "metadata": {},
   "outputs": [
    {
     "name": "stdout",
     "output_type": "stream",
     "text": [
      "<class 'pandas.core.frame.DataFrame'>\n",
      "Int64Index: 599268 entries, 0 to 607345\n",
      "Data columns (total 11 columns):\n",
      "DAY_OF_WEEK          599268 non-null int64\n",
      "OP_UNIQUE_CARRIER    599268 non-null object\n",
      "TAIL_NUM             599268 non-null object\n",
      "OP_CARRIER_FL_NUM    599268 non-null int64\n",
      "ORIGIN_AIRPORT_ID    599268 non-null int64\n",
      "DEST_AIRPORT_ID      599268 non-null int64\n",
      "DEP_TIME             599268 non-null float64\n",
      "DEP_DEL15            599268 non-null float64\n",
      "ARR_DEL15            599268 non-null float64\n",
      "DIVERTED             599268 non-null float64\n",
      "DISTANCE             599268 non-null float64\n",
      "dtypes: float64(5), int64(4), object(2)\n",
      "memory usage: 54.9+ MB\n"
     ]
    }
   ],
   "source": [
    "df = df.dropna()\n",
    "df.info()"
   ]
  },
  {
   "cell_type": "code",
   "execution_count": 12,
   "metadata": {},
   "outputs": [
    {
     "name": "stdout",
     "output_type": "stream",
     "text": [
      "<class 'pandas.core.frame.DataFrame'>\n",
      "Int64Index: 599268 entries, 0 to 607345\n",
      "Data columns (total 11 columns):\n",
      "DAY_OF_WEEK          599268 non-null int64\n",
      "OP_UNIQUE_CARRIER    599268 non-null object\n",
      "TAIL_NUM             599268 non-null object\n",
      "OP_CARRIER_FL_NUM    599268 non-null object\n",
      "ORIGIN_AIRPORT_ID    599268 non-null object\n",
      "DEST_AIRPORT_ID      599268 non-null object\n",
      "DEP_TIME             599268 non-null float64\n",
      "DEP_DEL15            599268 non-null float64\n",
      "ARR_DEL15            599268 non-null int64\n",
      "DIVERTED             599268 non-null float64\n",
      "DISTANCE             599268 non-null int64\n",
      "dtypes: float64(3), int64(3), object(5)\n",
      "memory usage: 54.9+ MB\n"
     ]
    }
   ],
   "source": [
    "#Fixing some column data types\n",
    "\n",
    "df['OP_CARRIER_FL_NUM'] = df['OP_CARRIER_FL_NUM'].astype(str)\n",
    "df['ORIGIN_AIRPORT_ID'] = df['ORIGIN_AIRPORT_ID'].astype(str)\n",
    "df['DEST_AIRPORT_ID'] = df['DEST_AIRPORT_ID'].astype(str)\n",
    "df['DISTANCE'] = df['DISTANCE'].astype(int)\n",
    "df['ARR_DEL15'] = df['ARR_DEL15'].astype(int)\n",
    "\n",
    "\n",
    "df.info()"
   ]
  },
  {
   "cell_type": "code",
   "execution_count": 13,
   "metadata": {},
   "outputs": [
    {
     "data": {
      "text/plain": [
       "(100000, 11)"
      ]
     },
     "execution_count": 13,
     "metadata": {},
     "output_type": "execute_result"
    }
   ],
   "source": [
    "#We still have a crazy number of rows. \n",
    "#Let's reduce this to a more managable number so my computer can actually run the models...\n",
    "\n",
    "df = df.sample(n=100000,random_state=0)\n",
    "df.shape"
   ]
  },
  {
   "cell_type": "code",
   "execution_count": 14,
   "metadata": {},
   "outputs": [
    {
     "data": {
      "text/plain": [
       "DAY_OF_WEEK          0\n",
       "OP_UNIQUE_CARRIER    0\n",
       "TAIL_NUM             0\n",
       "OP_CARRIER_FL_NUM    0\n",
       "ORIGIN_AIRPORT_ID    0\n",
       "DEST_AIRPORT_ID      0\n",
       "DEP_TIME             0\n",
       "DEP_DEL15            0\n",
       "ARR_DEL15            0\n",
       "DIVERTED             0\n",
       "DISTANCE             0\n",
       "dtype: int64"
      ]
     },
     "execution_count": 14,
     "metadata": {},
     "output_type": "execute_result"
    }
   ],
   "source": [
    "#Let's check for and deal with any NAN values\n",
    "\n",
    "df.isna().sum()"
   ]
  },
  {
   "cell_type": "code",
   "execution_count": 15,
   "metadata": {},
   "outputs": [],
   "source": [
    "#Let's sepparate out our X and Y\n",
    "y = df['ARR_DEL15']\n",
    "x = df.drop(['ARR_DEL15'],axis = 1)"
   ]
  },
  {
   "cell_type": "code",
   "execution_count": 16,
   "metadata": {},
   "outputs": [
    {
     "name": "stdout",
     "output_type": "stream",
     "text": [
      "(100000, 10)\n",
      "(100000, 12474)\n"
     ]
    }
   ],
   "source": [
    "#Let's grab our dummies for X\n",
    "\n",
    "x_dummies = pd.get_dummies(x)\n",
    "print(x.shape)\n",
    "print(x_dummies.shape)"
   ]
  },
  {
   "cell_type": "code",
   "execution_count": 17,
   "metadata": {},
   "outputs": [
    {
     "name": "stderr",
     "output_type": "stream",
     "text": [
      "/Users/noahxdeutsch/anaconda3/envs/learn-env/lib/python3.6/site-packages/sklearn/preprocessing/data.py:323: DataConversionWarning: Data with input dtype uint8, int64, float64 were all converted to float64 by MinMaxScaler.\n",
      "  return self.partial_fit(X, y)\n"
     ]
    },
    {
     "data": {
      "text/html": [
       "<div>\n",
       "<style scoped>\n",
       "    .dataframe tbody tr th:only-of-type {\n",
       "        vertical-align: middle;\n",
       "    }\n",
       "\n",
       "    .dataframe tbody tr th {\n",
       "        vertical-align: top;\n",
       "    }\n",
       "\n",
       "    .dataframe thead th {\n",
       "        text-align: right;\n",
       "    }\n",
       "</style>\n",
       "<table border=\"1\" class=\"dataframe\">\n",
       "  <thead>\n",
       "    <tr style=\"text-align: right;\">\n",
       "      <th></th>\n",
       "      <th>0</th>\n",
       "      <th>1</th>\n",
       "      <th>2</th>\n",
       "      <th>3</th>\n",
       "      <th>4</th>\n",
       "      <th>5</th>\n",
       "      <th>6</th>\n",
       "      <th>7</th>\n",
       "      <th>8</th>\n",
       "      <th>9</th>\n",
       "      <th>...</th>\n",
       "      <th>12464</th>\n",
       "      <th>12465</th>\n",
       "      <th>12466</th>\n",
       "      <th>12467</th>\n",
       "      <th>12468</th>\n",
       "      <th>12469</th>\n",
       "      <th>12470</th>\n",
       "      <th>12471</th>\n",
       "      <th>12472</th>\n",
       "      <th>12473</th>\n",
       "    </tr>\n",
       "  </thead>\n",
       "  <tbody>\n",
       "    <tr>\n",
       "      <th>count</th>\n",
       "      <td>100000.000000</td>\n",
       "      <td>100000.000000</td>\n",
       "      <td>100000.000000</td>\n",
       "      <td>100000.0</td>\n",
       "      <td>100000.000000</td>\n",
       "      <td>100000.000000</td>\n",
       "      <td>100000.000000</td>\n",
       "      <td>100000.000000</td>\n",
       "      <td>100000.000000</td>\n",
       "      <td>100000.000000</td>\n",
       "      <td>...</td>\n",
       "      <td>100000.000000</td>\n",
       "      <td>100000.000000</td>\n",
       "      <td>100000.000000</td>\n",
       "      <td>100000.00000</td>\n",
       "      <td>100000.000000</td>\n",
       "      <td>100000.0000</td>\n",
       "      <td>100000.000000</td>\n",
       "      <td>100000.000000</td>\n",
       "      <td>100000.000000</td>\n",
       "      <td>100000.0000</td>\n",
       "    </tr>\n",
       "    <tr>\n",
       "      <th>mean</th>\n",
       "      <td>0.490860</td>\n",
       "      <td>0.554752</td>\n",
       "      <td>0.135610</td>\n",
       "      <td>0.0</td>\n",
       "      <td>0.152044</td>\n",
       "      <td>0.038460</td>\n",
       "      <td>0.126290</td>\n",
       "      <td>0.034240</td>\n",
       "      <td>0.041030</td>\n",
       "      <td>0.132580</td>\n",
       "      <td>...</td>\n",
       "      <td>0.002390</td>\n",
       "      <td>0.000040</td>\n",
       "      <td>0.000080</td>\n",
       "      <td>0.00024</td>\n",
       "      <td>0.000680</td>\n",
       "      <td>0.0001</td>\n",
       "      <td>0.001810</td>\n",
       "      <td>0.000090</td>\n",
       "      <td>0.000300</td>\n",
       "      <td>0.0001</td>\n",
       "    </tr>\n",
       "    <tr>\n",
       "      <th>std</th>\n",
       "      <td>0.319429</td>\n",
       "      <td>0.207258</td>\n",
       "      <td>0.342376</td>\n",
       "      <td>0.0</td>\n",
       "      <td>0.116797</td>\n",
       "      <td>0.192305</td>\n",
       "      <td>0.332178</td>\n",
       "      <td>0.181846</td>\n",
       "      <td>0.198361</td>\n",
       "      <td>0.339122</td>\n",
       "      <td>...</td>\n",
       "      <td>0.048829</td>\n",
       "      <td>0.006324</td>\n",
       "      <td>0.008944</td>\n",
       "      <td>0.01549</td>\n",
       "      <td>0.026068</td>\n",
       "      <td>0.0100</td>\n",
       "      <td>0.042506</td>\n",
       "      <td>0.009486</td>\n",
       "      <td>0.017318</td>\n",
       "      <td>0.0100</td>\n",
       "    </tr>\n",
       "    <tr>\n",
       "      <th>min</th>\n",
       "      <td>0.000000</td>\n",
       "      <td>0.000000</td>\n",
       "      <td>0.000000</td>\n",
       "      <td>0.0</td>\n",
       "      <td>0.000000</td>\n",
       "      <td>0.000000</td>\n",
       "      <td>0.000000</td>\n",
       "      <td>0.000000</td>\n",
       "      <td>0.000000</td>\n",
       "      <td>0.000000</td>\n",
       "      <td>...</td>\n",
       "      <td>0.000000</td>\n",
       "      <td>0.000000</td>\n",
       "      <td>0.000000</td>\n",
       "      <td>0.00000</td>\n",
       "      <td>0.000000</td>\n",
       "      <td>0.0000</td>\n",
       "      <td>0.000000</td>\n",
       "      <td>0.000000</td>\n",
       "      <td>0.000000</td>\n",
       "      <td>0.0000</td>\n",
       "    </tr>\n",
       "    <tr>\n",
       "      <th>25%</th>\n",
       "      <td>0.166667</td>\n",
       "      <td>0.382243</td>\n",
       "      <td>0.000000</td>\n",
       "      <td>0.0</td>\n",
       "      <td>0.066746</td>\n",
       "      <td>0.000000</td>\n",
       "      <td>0.000000</td>\n",
       "      <td>0.000000</td>\n",
       "      <td>0.000000</td>\n",
       "      <td>0.000000</td>\n",
       "      <td>...</td>\n",
       "      <td>0.000000</td>\n",
       "      <td>0.000000</td>\n",
       "      <td>0.000000</td>\n",
       "      <td>0.00000</td>\n",
       "      <td>0.000000</td>\n",
       "      <td>0.0000</td>\n",
       "      <td>0.000000</td>\n",
       "      <td>0.000000</td>\n",
       "      <td>0.000000</td>\n",
       "      <td>0.0000</td>\n",
       "    </tr>\n",
       "    <tr>\n",
       "      <th>50%</th>\n",
       "      <td>0.500000</td>\n",
       "      <td>0.552730</td>\n",
       "      <td>0.000000</td>\n",
       "      <td>0.0</td>\n",
       "      <td>0.120458</td>\n",
       "      <td>0.000000</td>\n",
       "      <td>0.000000</td>\n",
       "      <td>0.000000</td>\n",
       "      <td>0.000000</td>\n",
       "      <td>0.000000</td>\n",
       "      <td>...</td>\n",
       "      <td>0.000000</td>\n",
       "      <td>0.000000</td>\n",
       "      <td>0.000000</td>\n",
       "      <td>0.00000</td>\n",
       "      <td>0.000000</td>\n",
       "      <td>0.0000</td>\n",
       "      <td>0.000000</td>\n",
       "      <td>0.000000</td>\n",
       "      <td>0.000000</td>\n",
       "      <td>0.0000</td>\n",
       "    </tr>\n",
       "    <tr>\n",
       "      <th>75%</th>\n",
       "      <td>0.666667</td>\n",
       "      <td>0.724885</td>\n",
       "      <td>0.000000</td>\n",
       "      <td>0.0</td>\n",
       "      <td>0.199743</td>\n",
       "      <td>0.000000</td>\n",
       "      <td>0.000000</td>\n",
       "      <td>0.000000</td>\n",
       "      <td>0.000000</td>\n",
       "      <td>0.000000</td>\n",
       "      <td>...</td>\n",
       "      <td>0.000000</td>\n",
       "      <td>0.000000</td>\n",
       "      <td>0.000000</td>\n",
       "      <td>0.00000</td>\n",
       "      <td>0.000000</td>\n",
       "      <td>0.0000</td>\n",
       "      <td>0.000000</td>\n",
       "      <td>0.000000</td>\n",
       "      <td>0.000000</td>\n",
       "      <td>0.0000</td>\n",
       "    </tr>\n",
       "    <tr>\n",
       "      <th>max</th>\n",
       "      <td>1.000000</td>\n",
       "      <td>1.000000</td>\n",
       "      <td>1.000000</td>\n",
       "      <td>0.0</td>\n",
       "      <td>1.000000</td>\n",
       "      <td>1.000000</td>\n",
       "      <td>1.000000</td>\n",
       "      <td>1.000000</td>\n",
       "      <td>1.000000</td>\n",
       "      <td>1.000000</td>\n",
       "      <td>...</td>\n",
       "      <td>1.000000</td>\n",
       "      <td>1.000000</td>\n",
       "      <td>1.000000</td>\n",
       "      <td>1.00000</td>\n",
       "      <td>1.000000</td>\n",
       "      <td>1.0000</td>\n",
       "      <td>1.000000</td>\n",
       "      <td>1.000000</td>\n",
       "      <td>1.000000</td>\n",
       "      <td>1.0000</td>\n",
       "    </tr>\n",
       "  </tbody>\n",
       "</table>\n",
       "<p>8 rows × 12474 columns</p>\n",
       "</div>"
      ],
      "text/plain": [
       "               0              1              2         3              4      \\\n",
       "count  100000.000000  100000.000000  100000.000000  100000.0  100000.000000   \n",
       "mean        0.490860       0.554752       0.135610       0.0       0.152044   \n",
       "std         0.319429       0.207258       0.342376       0.0       0.116797   \n",
       "min         0.000000       0.000000       0.000000       0.0       0.000000   \n",
       "25%         0.166667       0.382243       0.000000       0.0       0.066746   \n",
       "50%         0.500000       0.552730       0.000000       0.0       0.120458   \n",
       "75%         0.666667       0.724885       0.000000       0.0       0.199743   \n",
       "max         1.000000       1.000000       1.000000       0.0       1.000000   \n",
       "\n",
       "               5              6              7              8      \\\n",
       "count  100000.000000  100000.000000  100000.000000  100000.000000   \n",
       "mean        0.038460       0.126290       0.034240       0.041030   \n",
       "std         0.192305       0.332178       0.181846       0.198361   \n",
       "min         0.000000       0.000000       0.000000       0.000000   \n",
       "25%         0.000000       0.000000       0.000000       0.000000   \n",
       "50%         0.000000       0.000000       0.000000       0.000000   \n",
       "75%         0.000000       0.000000       0.000000       0.000000   \n",
       "max         1.000000       1.000000       1.000000       1.000000   \n",
       "\n",
       "               9         ...               12464          12465  \\\n",
       "count  100000.000000     ...       100000.000000  100000.000000   \n",
       "mean        0.132580     ...            0.002390       0.000040   \n",
       "std         0.339122     ...            0.048829       0.006324   \n",
       "min         0.000000     ...            0.000000       0.000000   \n",
       "25%         0.000000     ...            0.000000       0.000000   \n",
       "50%         0.000000     ...            0.000000       0.000000   \n",
       "75%         0.000000     ...            0.000000       0.000000   \n",
       "max         1.000000     ...            1.000000       1.000000   \n",
       "\n",
       "               12466         12467          12468        12469          12470  \\\n",
       "count  100000.000000  100000.00000  100000.000000  100000.0000  100000.000000   \n",
       "mean        0.000080       0.00024       0.000680       0.0001       0.001810   \n",
       "std         0.008944       0.01549       0.026068       0.0100       0.042506   \n",
       "min         0.000000       0.00000       0.000000       0.0000       0.000000   \n",
       "25%         0.000000       0.00000       0.000000       0.0000       0.000000   \n",
       "50%         0.000000       0.00000       0.000000       0.0000       0.000000   \n",
       "75%         0.000000       0.00000       0.000000       0.0000       0.000000   \n",
       "max         1.000000       1.00000       1.000000       1.0000       1.000000   \n",
       "\n",
       "               12471          12472        12473  \n",
       "count  100000.000000  100000.000000  100000.0000  \n",
       "mean        0.000090       0.000300       0.0001  \n",
       "std         0.009486       0.017318       0.0100  \n",
       "min         0.000000       0.000000       0.0000  \n",
       "25%         0.000000       0.000000       0.0000  \n",
       "50%         0.000000       0.000000       0.0000  \n",
       "75%         0.000000       0.000000       0.0000  \n",
       "max         1.000000       1.000000       1.0000  \n",
       "\n",
       "[8 rows x 12474 columns]"
      ]
     },
     "execution_count": 17,
     "metadata": {},
     "output_type": "execute_result"
    }
   ],
   "source": [
    "#Next, let's normalize the data\n",
    "\n",
    "from sklearn.preprocessing import MinMaxScaler\n",
    "\n",
    "scaler = MinMaxScaler()\n",
    "\n",
    "x_final = scaler.fit_transform(x_dummies)\n",
    "\n",
    "pd.DataFrame(x_final).describe()"
   ]
  },
  {
   "cell_type": "code",
   "execution_count": 18,
   "metadata": {},
   "outputs": [],
   "source": [
    "#Last step – let's make our train test splits.\n",
    "\n",
    "from sklearn.model_selection import train_test_split\n",
    "X_train, X_test, y_train, y_test = train_test_split(x_final, y, stratify=y,random_state=0)"
   ]
  },
  {
   "cell_type": "code",
   "execution_count": 19,
   "metadata": {},
   "outputs": [
    {
     "name": "stdout",
     "output_type": "stream",
     "text": [
      "73000\n",
      "73000\n"
     ]
    }
   ],
   "source": [
    "#And get our Validation data\n",
    "\n",
    "X_val = X_train[:2000]\n",
    "X_train_final = X_train[2000:]\n",
    "y_val = y_train[:2000]\n",
    "y_train_final = y_train[2000:]\n",
    "\n",
    "print(len(X_train_final))\n",
    "print(len(y_train_final))"
   ]
  },
  {
   "cell_type": "markdown",
   "metadata": {},
   "source": [
    "---\n",
    "## Explore"
   ]
  },
  {
   "cell_type": "code",
   "execution_count": 20,
   "metadata": {},
   "outputs": [
    {
     "data": {
      "text/plain": [
       "Index(['DAY_OF_WEEK', 'OP_UNIQUE_CARRIER', 'TAIL_NUM', 'OP_CARRIER_FL_NUM',\n",
       "       'ORIGIN_AIRPORT_ID', 'DEST_AIRPORT_ID', 'DEP_TIME', 'DEP_DEL15',\n",
       "       'DIVERTED', 'DISTANCE'],\n",
       "      dtype='object')"
      ]
     },
     "execution_count": 20,
     "metadata": {},
     "output_type": "execute_result"
    }
   ],
   "source": [
    "#a quick look at our columns\n",
    "x.columns"
   ]
  },
  {
   "cell_type": "code",
   "execution_count": 21,
   "metadata": {},
   "outputs": [],
   "source": [
    "#making a new dataframe for EDA purposes\n",
    "\n",
    "x_eda = x\n",
    "x_eda['y'] = y*100"
   ]
  },
  {
   "cell_type": "code",
   "execution_count": 69,
   "metadata": {},
   "outputs": [
    {
     "data": {
      "text/plain": [
       "<matplotlib.axes._subplots.AxesSubplot at 0x7fa0c668d9e8>"
      ]
     },
     "execution_count": 69,
     "metadata": {},
     "output_type": "execute_result"
    },
    {
     "data": {
      "image/png": "[encoded data removed]",
      "text/plain": [
       "<Figure size 432x288 with 1 Axes>"
      ]
     },
     "metadata": {
      "needs_background": "light"
     },
     "output_type": "display_data"
    }
   ],
   "source": [
    "x_eda.groupby('DAY_OF_WEEK').mean().plot(y='y',kind='bar',legend=False,title='Percentage of Flights Delayed by Day of Week')"
   ]
  },
  {
   "cell_type": "code",
   "execution_count": 23,
   "metadata": {},
   "outputs": [
    {
     "data": {
      "text/plain": [
       "WN    18017\n",
       "DL    13258\n",
       "AA    12629\n",
       "OO    11619\n",
       "UA     8230\n",
       "YX     4700\n",
       "MQ     4133\n",
       "B6     4103\n",
       "OH     3938\n",
       "9E     3846\n",
       "AS     3424\n",
       "YV     2948\n",
       "NK     2944\n",
       "F9     1984\n",
       "EV     1797\n",
       "G4     1261\n",
       "HA     1169\n",
       "Name: OP_UNIQUE_CARRIER, dtype: int64"
      ]
     },
     "execution_count": 23,
     "metadata": {},
     "output_type": "execute_result"
    }
   ],
   "source": [
    "x_eda.OP_UNIQUE_CARRIER.value_counts()"
   ]
  },
  {
   "cell_type": "code",
   "execution_count": 70,
   "metadata": {},
   "outputs": [
    {
     "data": {
      "text/plain": [
       "<matplotlib.axes._subplots.AxesSubplot at 0x7fa0c6680208>"
      ]
     },
     "execution_count": 70,
     "metadata": {},
     "output_type": "execute_result"
    },
    {
     "data": {
      "image/png": "[encoded data removed]",
      "text/plain": [
       "<Figure size 432x288 with 1 Axes>"
      ]
     },
     "metadata": {
      "needs_background": "light"
     },
     "output_type": "display_data"
    }
   ],
   "source": [
    "x_eda.groupby('OP_UNIQUE_CARRIER').mean().plot(y='y',kind='bar',legend=False,title='Percentage of Flights Delayed by Carrier')"
   ]
  },
  {
   "cell_type": "code",
   "execution_count": 71,
   "metadata": {},
   "outputs": [
    {
     "data": {
      "text/plain": [
       "<matplotlib.axes._subplots.AxesSubplot at 0x7fa0c666d4e0>"
      ]
     },
     "execution_count": 71,
     "metadata": {},
     "output_type": "execute_result"
    },
    {
     "data": {
      "image/png": "[encoded data removed]",
      "text/plain": [
       "<Figure size 432x288 with 1 Axes>"
      ]
     },
     "metadata": {
      "needs_background": "light"
     },
     "output_type": "display_data"
    }
   ],
   "source": [
    "x_eda.groupby('DEP_TIME').mean().plot(y='y',legend=False,title='Percentage of Flights Delayed by Scheduled Dep. Time')"
   ]
  },
  {
   "cell_type": "code",
   "execution_count": 72,
   "metadata": {},
   "outputs": [
    {
     "data": {
      "text/plain": [
       "<matplotlib.axes._subplots.AxesSubplot at 0x7fa0c6661f28>"
      ]
     },
     "execution_count": 72,
     "metadata": {},
     "output_type": "execute_result"
    },
    {
     "data": {
      "image/png": "[encoded data removed]",
      "text/plain": [
       "<Figure size 432x288 with 1 Axes>"
      ]
     },
     "metadata": {
      "needs_background": "light"
     },
     "output_type": "display_data"
    }
   ],
   "source": [
    "x_eda.groupby('DISTANCE').mean().plot(y='y',legend=False,title='Percentage of Flights Delayed by Flight Distance')"
   ]
  },
  {
   "cell_type": "code",
   "execution_count": null,
   "metadata": {},
   "outputs": [],
   "source": [
    "x_eda.groupby('DEP_DEL15').mean().plot(y='y',kind = 'bar',legend=False,title='Cancellation Percentage by Dep. Time')"
   ]
  },
  {
   "cell_type": "code",
   "execution_count": 89,
   "metadata": {},
   "outputs": [],
   "source": [
    "#Analysis\n",
    "    #Theres a clear relationship between DOW and Flight Delays. Weekend flights are most likely to be delayed\n",
    "    #Certain carriers also have a higher likelihood of having their flights delayed.\n",
    "    #Flight departing at night(between 9pm - 5am) are increasingly more likely to be delayed.\n",
    "    #No clear relationship between flight distance and delay."
   ]
  },
  {
   "cell_type": "markdown",
   "metadata": {},
   "source": [
    "---\n",
    "## Modelling"
   ]
  },
  {
   "cell_type": "code",
   "execution_count": 27,
   "metadata": {},
   "outputs": [
    {
     "name": "stderr",
     "output_type": "stream",
     "text": [
      "Using TensorFlow backend.\n"
     ]
    }
   ],
   "source": [
    "#importing the required modules\n",
    "\n",
    "import warnings\n",
    "warnings.filterwarnings('ignore')\n",
    "\n",
    "import itertools\n",
    "from sklearn.metrics import confusion_matrix\n",
    "from sklearn.metrics import accuracy_score\n",
    "\n",
    "from keras import models\n",
    "from keras import layers\n",
    "from keras import optimizers\n",
    "from keras import regularizers"
   ]
  },
  {
   "cell_type": "markdown",
   "metadata": {},
   "source": [
    "#### Basic Neural Network Classifier"
   ]
  },
  {
   "cell_type": "code",
   "execution_count": 90,
   "metadata": {},
   "outputs": [],
   "source": [
    "#We'll keep it pretty simple for this first one\n",
    "\n",
    "model = models.Sequential()\n",
    "model.add(layers.Dense(50, activation='relu', input_shape=(12474,))) \n",
    "model.add(layers.Dense(10, activation='relu'))\n",
    "model.add(layers.Dense(1, activation='sigmoid')) #for Binary Classification"
   ]
  },
  {
   "cell_type": "code",
   "execution_count": 35,
   "metadata": {},
   "outputs": [],
   "source": [
    "model.compile(optimizer='SGD',\n",
    "              loss='binary_crossentropy', #for Binary Classification\n",
    "              metrics=['accuracy'])"
   ]
  },
  {
   "cell_type": "code",
   "execution_count": 36,
   "metadata": {},
   "outputs": [
    {
     "name": "stdout",
     "output_type": "stream",
     "text": [
      "Train on 73000 samples, validate on 2000 samples\n",
      "Epoch 1/20\n",
      "73000/73000 [==============================] - 11s 155us/step - loss: 0.4980 - acc: 0.8590 - val_loss: 0.4050 - val_acc: 0.8635\n",
      "Epoch 2/20\n",
      "73000/73000 [==============================] - 7s 102us/step - loss: 0.3814 - acc: 0.8635 - val_loss: 0.3583 - val_acc: 0.8635\n",
      "Epoch 3/20\n",
      "73000/73000 [==============================] - 8s 108us/step - loss: 0.3276 - acc: 0.8635 - val_loss: 0.3030 - val_acc: 0.8635\n",
      "Epoch 4/20\n",
      "73000/73000 [==============================] - 9s 126us/step - loss: 0.2755 - acc: 0.8635 - val_loss: 0.2650 - val_acc: 0.8635\n",
      "Epoch 5/20\n",
      "73000/73000 [==============================] - 11s 151us/step - loss: 0.2447 - acc: 0.8969 - val_loss: 0.2456 - val_acc: 0.9230\n",
      "Epoch 6/20\n",
      "73000/73000 [==============================] - 9s 120us/step - loss: 0.2291 - acc: 0.9302 - val_loss: 0.2382 - val_acc: 0.9220\n",
      "Epoch 7/20\n",
      "73000/73000 [==============================] - 8s 106us/step - loss: 0.2233 - acc: 0.9303 - val_loss: 0.2363 - val_acc: 0.9220\n",
      "Epoch 8/20\n",
      "73000/73000 [==============================] - 9s 129us/step - loss: 0.2213 - acc: 0.9303 - val_loss: 0.2356 - val_acc: 0.9220\n",
      "Epoch 9/20\n",
      "73000/73000 [==============================] - 10s 130us/step - loss: 0.2204 - acc: 0.9303 - val_loss: 0.2351 - val_acc: 0.9220\n",
      "Epoch 10/20\n",
      "73000/73000 [==============================] - 9s 120us/step - loss: 0.2199 - acc: 0.9303 - val_loss: 0.2350 - val_acc: 0.9220\n",
      "Epoch 11/20\n",
      "73000/73000 [==============================] - 9s 125us/step - loss: 0.2195 - acc: 0.9303 - val_loss: 0.2346 - val_acc: 0.9220\n",
      "Epoch 12/20\n",
      "73000/73000 [==============================] - 9s 120us/step - loss: 0.2192 - acc: 0.9303 - val_loss: 0.2346 - val_acc: 0.9220\n",
      "Epoch 13/20\n",
      "73000/73000 [==============================] - 9s 119us/step - loss: 0.2189 - acc: 0.9303 - val_loss: 0.2345 - val_acc: 0.9220\n",
      "Epoch 14/20\n",
      "73000/73000 [==============================] - 9s 126us/step - loss: 0.2187 - acc: 0.9303 - val_loss: 0.2344 - val_acc: 0.9220\n",
      "Epoch 15/20\n",
      "73000/73000 [==============================] - 9s 119us/step - loss: 0.2185 - acc: 0.9303 - val_loss: 0.2344 - val_acc: 0.9220\n",
      "Epoch 16/20\n",
      "73000/73000 [==============================] - 9s 117us/step - loss: 0.2183 - acc: 0.9302 - val_loss: 0.2343 - val_acc: 0.9220\n",
      "Epoch 17/20\n",
      "73000/73000 [==============================] - 9s 117us/step - loss: 0.2182 - acc: 0.9302 - val_loss: 0.2341 - val_acc: 0.9220\n",
      "Epoch 18/20\n",
      "73000/73000 [==============================] - 9s 119us/step - loss: 0.2180 - acc: 0.9302 - val_loss: 0.2343 - val_acc: 0.9220\n",
      "Epoch 19/20\n",
      "73000/73000 [==============================] - 9s 118us/step - loss: 0.2178 - acc: 0.9302 - val_loss: 0.2341 - val_acc: 0.9220\n",
      "Epoch 20/20\n",
      "73000/73000 [==============================] - 9s 126us/step - loss: 0.2176 - acc: 0.9302 - val_loss: 0.2339 - val_acc: 0.9220\n"
     ]
    }
   ],
   "source": [
    "history = model.fit(X_train_final,\n",
    "                    y_train_final,\n",
    "                    epochs=20, #Sharp diminsishing returns after 10 Epochs\n",
    "                    batch_size=200,\n",
    "                    validation_data=(X_val, y_val))"
   ]
  },
  {
   "cell_type": "code",
   "execution_count": 37,
   "metadata": {},
   "outputs": [
    {
     "data": {
      "image/png": "[encoded data removed]",
      "text/plain": [
       "<Figure size 432x288 with 1 Axes>"
      ]
     },
     "metadata": {
      "needs_background": "light"
     },
     "output_type": "display_data"
    }
   ],
   "source": [
    "model_val_dict = history.history\n",
    "model_val_dict.keys()\n",
    "\n",
    "plt.clf()\n",
    "\n",
    "import matplotlib.pyplot as plt\n",
    "loss_values = model_val_dict['loss']\n",
    "val_loss_values = model_val_dict['val_loss']\n",
    "\n",
    "epochs = range(1, len(loss_values) + 1)\n",
    "plt.plot(epochs, loss_values, 'g', label='Training loss')\n",
    "plt.plot(epochs, val_loss_values, 'blue', label='Validation loss')\n",
    "\n",
    "plt.title('Training & validation loss')\n",
    "plt.xlabel('Epochs')\n",
    "plt.ylabel('Loss')\n",
    "plt.legend()\n",
    "plt.show()"
   ]
  },
  {
   "cell_type": "code",
   "execution_count": 38,
   "metadata": {},
   "outputs": [
    {
     "data": {
      "image/png": "[encoded data removed]",
      "text/plain": [
       "<Figure size 432x288 with 1 Axes>"
      ]
     },
     "metadata": {
      "needs_background": "light"
     },
     "output_type": "display_data"
    }
   ],
   "source": [
    "plt.clf()\n",
    "\n",
    "acc_values = model_val_dict['acc'] \n",
    "val_acc_values = model_val_dict['val_acc']\n",
    "\n",
    "plt.plot(epochs, acc_values, 'r', label='Training acc')\n",
    "plt.plot(epochs, val_acc_values, 'blue', label='Validation acc')\n",
    "plt.title('Training & validation accuracy')\n",
    "plt.xlabel('Epochs')\n",
    "plt.ylabel('Loss')\n",
    "plt.legend()\n",
    "plt.show()"
   ]
  },
  {
   "cell_type": "code",
   "execution_count": 40,
   "metadata": {},
   "outputs": [
    {
     "name": "stdout",
     "output_type": "stream",
     "text": [
      "[[20741   847]\n",
      " [  853  2559]]\n"
     ]
    },
    {
     "data": {
      "image/png": "[encoded data removed]",
      "text/plain": [
       "<Figure size 576x576 with 2 Axes>"
      ]
     },
     "metadata": {
      "needs_background": "light"
     },
     "output_type": "display_data"
    }
   ],
   "source": [
    "from sklearn.metrics import confusion_matrix\n",
    "\n",
    "predictions = model.predict_classes(X_test)\n",
    "\n",
    "cm = confusion_matrix(y_test,predictions)\n",
    "print(cm)\n",
    "\n",
    "import seaborn as sns\n",
    "\n",
    "figure = plt.figure(figsize=(8, 8))\n",
    "sns.heatmap(cm, annot=True,cmap=plt.cm.Blues)\n",
    "plt.tight_layout()\n",
    "plt.ylabel('True label')\n",
    "plt.xlabel('Predicted label')\n",
    "plt.show()"
   ]
  },
  {
   "cell_type": "code",
   "execution_count": null,
   "metadata": {},
   "outputs": [],
   "source": [
    "# A great first start! 93% Accuracy on train and 92% on validation. No signs of under/over fitting."
   ]
  },
  {
   "cell_type": "markdown",
   "metadata": {},
   "source": [
    "#### Model With L1 Regularization"
   ]
  },
  {
   "cell_type": "code",
   "execution_count": 91,
   "metadata": {},
   "outputs": [],
   "source": [
    "#let's see if we can improve on this with regularization\n",
    "\n",
    "model_L1 = models.Sequential()\n",
    "model_L1.add(layers.Dense(50, activation='relu', kernel_regularizer=regularizers.l1(0.005), input_shape=(12474,))) \n",
    "model_L1.add(layers.Dense(10, activation='relu',kernel_regularizer=regularizers.l1(0.005)))\n",
    "model_L1.add(layers.Dense(1, activation='sigmoid'))"
   ]
  },
  {
   "cell_type": "code",
   "execution_count": 92,
   "metadata": {},
   "outputs": [],
   "source": [
    "model_L1.compile(optimizer='SGD',\n",
    "              loss='binary_crossentropy',\n",
    "              metrics=['accuracy'])"
   ]
  },
  {
   "cell_type": "code",
   "execution_count": 93,
   "metadata": {},
   "outputs": [
    {
     "name": "stdout",
     "output_type": "stream",
     "text": [
      "Train on 73000 samples, validate on 2000 samples\n",
      "Epoch 1/20\n",
      "73000/73000 [==============================] - 10s 131us/step - loss: 14.4881 - acc: 0.8635 - val_loss: 1.7353 - val_acc: 0.8635\n",
      "Epoch 2/20\n",
      "73000/73000 [==============================] - 7s 96us/step - loss: 0.8198 - acc: 0.8635 - val_loss: 0.7226 - val_acc: 0.8635\n",
      "Epoch 3/20\n",
      "73000/73000 [==============================] - 7s 96us/step - loss: 0.6864 - acc: 0.8635 - val_loss: 0.6635 - val_acc: 0.8635\n",
      "Epoch 4/20\n",
      "73000/73000 [==============================] - 8s 104us/step - loss: 0.6311 - acc: 0.8635 - val_loss: 0.6174 - val_acc: 0.8635\n",
      "Epoch 5/20\n",
      "73000/73000 [==============================] - 8s 106us/step - loss: 0.5894 - acc: 0.8805 - val_loss: 0.5811 - val_acc: 0.9220\n",
      "Epoch 6/20\n",
      "73000/73000 [==============================] - 8s 110us/step - loss: 0.5543 - acc: 0.9303 - val_loss: 0.5486 - val_acc: 0.9220\n",
      "Epoch 7/20\n",
      "73000/73000 [==============================] - 8s 114us/step - loss: 0.5226 - acc: 0.9303 - val_loss: 0.5188 - val_acc: 0.9220\n",
      "Epoch 8/20\n",
      "73000/73000 [==============================] - 9s 120us/step - loss: 0.4939 - acc: 0.9303 - val_loss: 0.4921 - val_acc: 0.9220\n",
      "Epoch 9/20\n",
      "73000/73000 [==============================] - 11s 150us/step - loss: 0.4683 - acc: 0.9303 - val_loss: 0.4685 - val_acc: 0.9220\n",
      "Epoch 10/20\n",
      "73000/73000 [==============================] - 10s 134us/step - loss: 0.4460 - acc: 0.9303 - val_loss: 0.4480 - val_acc: 0.9220\n",
      "Epoch 11/20\n",
      "73000/73000 [==============================] - 10s 131us/step - loss: 0.4260 - acc: 0.9303 - val_loss: 0.4292 - val_acc: 0.9220\n",
      "Epoch 12/20\n",
      "73000/73000 [==============================] - 10s 141us/step - loss: 0.4084 - acc: 0.9303 - val_loss: 0.4132 - val_acc: 0.9220\n",
      "Epoch 13/20\n",
      "73000/73000 [==============================] - 11s 157us/step - loss: 0.3930 - acc: 0.9303 - val_loss: 0.3991 - val_acc: 0.9220\n",
      "Epoch 14/20\n",
      "73000/73000 [==============================] - 11s 147us/step - loss: 0.3801 - acc: 0.9303 - val_loss: 0.3879 - val_acc: 0.9220\n",
      "Epoch 15/20\n",
      "73000/73000 [==============================] - 10s 143us/step - loss: 0.3697 - acc: 0.9303 - val_loss: 0.3784 - val_acc: 0.9220\n",
      "Epoch 16/20\n",
      "73000/73000 [==============================] - 11s 149us/step - loss: 0.3612 - acc: 0.9303 - val_loss: 0.3714 - val_acc: 0.9220\n",
      "Epoch 17/20\n",
      "73000/73000 [==============================] - 10s 144us/step - loss: 0.3553 - acc: 0.9303 - val_loss: 0.3664 - val_acc: 0.9220\n",
      "Epoch 18/20\n",
      "73000/73000 [==============================] - 10s 139us/step - loss: 0.3512 - acc: 0.9303 - val_loss: 0.3633 - val_acc: 0.9220\n",
      "Epoch 19/20\n",
      "73000/73000 [==============================] - 10s 135us/step - loss: 0.3481 - acc: 0.9303 - val_loss: 0.3603 - val_acc: 0.9220\n",
      "Epoch 20/20\n",
      "73000/73000 [==============================] - 11s 145us/step - loss: 0.3453 - acc: 0.9303 - val_loss: 0.3581 - val_acc: 0.9220\n"
     ]
    }
   ],
   "source": [
    "history = model_L1.fit(X_train_final,\n",
    "                    y_train_final,\n",
    "                    epochs=20,\n",
    "                    batch_size=200,\n",
    "                    validation_data=(X_val, y_val))"
   ]
  },
  {
   "cell_type": "code",
   "execution_count": 56,
   "metadata": {},
   "outputs": [
    {
     "data": {
      "image/png": "[encoded data removed]",
      "text/plain": [
       "<Figure size 432x288 with 1 Axes>"
      ]
     },
     "metadata": {
      "needs_background": "light"
     },
     "output_type": "display_data"
    }
   ],
   "source": [
    "model_val_dict = history.history\n",
    "model_val_dict.keys()\n",
    "\n",
    "plt.clf()\n",
    "\n",
    "import matplotlib.pyplot as plt\n",
    "loss_values = model_val_dict['loss']\n",
    "val_loss_values = model_val_dict['val_loss']\n",
    "\n",
    "epochs = range(1, len(loss_values) + 1)\n",
    "plt.plot(epochs, loss_values, 'g', label='Training loss')\n",
    "plt.plot(epochs, val_loss_values, 'blue', label='Validation loss')\n",
    "\n",
    "plt.title('Training & validation loss')\n",
    "plt.xlabel('Epochs')\n",
    "plt.ylabel('Loss')\n",
    "plt.legend()\n",
    "plt.show()"
   ]
  },
  {
   "cell_type": "code",
   "execution_count": 57,
   "metadata": {},
   "outputs": [
    {
     "data": {
      "image/png": "[encoded data removed]",
      "text/plain": [
       "<Figure size 432x288 with 1 Axes>"
      ]
     },
     "metadata": {
      "needs_background": "light"
     },
     "output_type": "display_data"
    }
   ],
   "source": [
    "plt.clf()\n",
    "\n",
    "acc_values = model_val_dict['acc'] \n",
    "val_acc_values = model_val_dict['val_acc']\n",
    "\n",
    "plt.plot(epochs, acc_values, 'r', label='Training acc')\n",
    "plt.plot(epochs, val_acc_values, 'blue', label='Validation acc')\n",
    "plt.title('Training & validation accuracy')\n",
    "plt.xlabel('Epochs')\n",
    "plt.ylabel('Loss')\n",
    "plt.legend()\n",
    "plt.show()"
   ]
  },
  {
   "cell_type": "code",
   "execution_count": 58,
   "metadata": {},
   "outputs": [
    {
     "name": "stdout",
     "output_type": "stream",
     "text": [
      "[[20740   848]\n",
      " [  849  2563]]\n"
     ]
    },
    {
     "data": {
      "image/png": "[encoded data removed]",
      "text/plain": [
       "<Figure size 576x576 with 2 Axes>"
      ]
     },
     "metadata": {
      "needs_background": "light"
     },
     "output_type": "display_data"
    }
   ],
   "source": [
    "from sklearn.metrics import confusion_matrix\n",
    "\n",
    "predictions = model.predict_classes(X_test)\n",
    "\n",
    "cm = confusion_matrix(y_test,predictions)\n",
    "print(cm)\n",
    "\n",
    "import seaborn as sns\n",
    "\n",
    "figure = plt.figure(figsize=(8, 8))\n",
    "sns.heatmap(cm, annot=True,cmap=plt.cm.Blues)\n",
    "plt.tight_layout()\n",
    "plt.ylabel('True label')\n",
    "plt.xlabel('Predicted label')\n",
    "plt.show()"
   ]
  },
  {
   "cell_type": "code",
   "execution_count": 94,
   "metadata": {},
   "outputs": [],
   "source": [
    "#A nearly identical result. Let's see is L2 is better!"
   ]
  },
  {
   "cell_type": "markdown",
   "metadata": {},
   "source": [
    "#### Neural Network with L2 Regularization"
   ]
  },
  {
   "cell_type": "code",
   "execution_count": 59,
   "metadata": {},
   "outputs": [],
   "source": [
    "model_L2 = models.Sequential()\n",
    "model_L2.add(layers.Dense(50, activation='relu', kernel_regularizer=regularizers.l2(0.005), input_shape=(12474,))) \n",
    "model_L2.add(layers.Dense(10, activation='relu',kernel_regularizer=regularizers.l2(0.005)))\n",
    "model_L2.add(layers.Dense(1, activation='sigmoid'))"
   ]
  },
  {
   "cell_type": "code",
   "execution_count": 60,
   "metadata": {},
   "outputs": [],
   "source": [
    "model_L2.compile(optimizer='SGD',\n",
    "              loss='binary_crossentropy',\n",
    "              metrics=['accuracy'])"
   ]
  },
  {
   "cell_type": "code",
   "execution_count": 61,
   "metadata": {},
   "outputs": [
    {
     "name": "stdout",
     "output_type": "stream",
     "text": [
      "Train on 73000 samples, validate on 2000 samples\n",
      "Epoch 1/20\n",
      "73000/73000 [==============================] - 10s 138us/step - loss: 1.0393 - acc: 0.8601 - val_loss: 0.9317 - val_acc: 0.8635\n",
      "Epoch 2/20\n",
      "73000/73000 [==============================] - 10s 133us/step - loss: 0.8895 - acc: 0.8635 - val_loss: 0.8484 - val_acc: 0.8635\n",
      "Epoch 3/20\n",
      "73000/73000 [==============================] - 9s 125us/step - loss: 0.7980 - acc: 0.8635 - val_loss: 0.7597 - val_acc: 0.8635\n",
      "Epoch 4/20\n",
      "73000/73000 [==============================] - 10s 131us/step - loss: 0.7190 - acc: 0.8745 - val_loss: 0.6978 - val_acc: 0.9200\n",
      "Epoch 5/20\n",
      "73000/73000 [==============================] - 10s 137us/step - loss: 0.6663 - acc: 0.9273 - val_loss: 0.6579 - val_acc: 0.9220\n",
      "Epoch 6/20\n",
      "73000/73000 [==============================] - 11s 156us/step - loss: 0.6297 - acc: 0.9303 - val_loss: 0.6268 - val_acc: 0.9220\n",
      "Epoch 7/20\n",
      "73000/73000 [==============================] - 10s 135us/step - loss: 0.5998 - acc: 0.9303 - val_loss: 0.5996 - val_acc: 0.9220\n",
      "Epoch 8/20\n",
      "73000/73000 [==============================] - 10s 134us/step - loss: 0.5733 - acc: 0.9303 - val_loss: 0.5750 - val_acc: 0.9220\n",
      "Epoch 9/20\n",
      "73000/73000 [==============================] - 10s 135us/step - loss: 0.5491 - acc: 0.9303 - val_loss: 0.5517 - val_acc: 0.9220\n",
      "Epoch 10/20\n",
      "73000/73000 [==============================] - 9s 124us/step - loss: 0.5268 - acc: 0.9303 - val_loss: 0.5305 - val_acc: 0.9220\n",
      "Epoch 11/20\n",
      "73000/73000 [==============================] - 9s 125us/step - loss: 0.5061 - acc: 0.9303 - val_loss: 0.5106 - val_acc: 0.9220\n",
      "Epoch 12/20\n",
      "73000/73000 [==============================] - 9s 127us/step - loss: 0.4869 - acc: 0.9303 - val_loss: 0.4923 - val_acc: 0.9220\n",
      "Epoch 13/20\n",
      "73000/73000 [==============================] - 11s 144us/step - loss: 0.4690 - acc: 0.9303 - val_loss: 0.4752 - val_acc: 0.9220\n",
      "Epoch 14/20\n",
      "73000/73000 [==============================] - 10s 135us/step - loss: 0.4525 - acc: 0.9303 - val_loss: 0.4593 - val_acc: 0.9220\n",
      "Epoch 15/20\n",
      "73000/73000 [==============================] - 10s 131us/step - loss: 0.4371 - acc: 0.9303 - val_loss: 0.4446 - val_acc: 0.9220\n",
      "Epoch 16/20\n",
      "73000/73000 [==============================] - 9s 130us/step - loss: 0.4227 - acc: 0.9303 - val_loss: 0.4307 - val_acc: 0.9220\n",
      "Epoch 17/20\n",
      "73000/73000 [==============================] - 9s 129us/step - loss: 0.4094 - acc: 0.9303 - val_loss: 0.4182 - val_acc: 0.9220\n",
      "Epoch 18/20\n",
      "73000/73000 [==============================] - 10s 132us/step - loss: 0.3971 - acc: 0.9303 - val_loss: 0.4061 - val_acc: 0.9220\n",
      "Epoch 19/20\n",
      "73000/73000 [==============================] - 10s 132us/step - loss: 0.3855 - acc: 0.9303 - val_loss: 0.3952 - val_acc: 0.9220\n",
      "Epoch 20/20\n",
      "73000/73000 [==============================] - 10s 132us/step - loss: 0.3749 - acc: 0.9303 - val_loss: 0.3848 - val_acc: 0.9220\n"
     ]
    }
   ],
   "source": [
    "history = model_L2.fit(X_train_final,\n",
    "                    y_train_final,\n",
    "                    epochs=20,\n",
    "                    batch_size=200,\n",
    "                    validation_data=(X_val, y_val))"
   ]
  },
  {
   "cell_type": "code",
   "execution_count": 62,
   "metadata": {},
   "outputs": [
    {
     "data": {
      "image/png": "[encoded data removed]",
      "text/plain": [
       "<Figure size 432x288 with 1 Axes>"
      ]
     },
     "metadata": {
      "needs_background": "light"
     },
     "output_type": "display_data"
    }
   ],
   "source": [
    "model_val_dict = history.history\n",
    "model_val_dict.keys()\n",
    "\n",
    "plt.clf()\n",
    "\n",
    "import matplotlib.pyplot as plt\n",
    "loss_values = model_val_dict['loss']\n",
    "val_loss_values = model_val_dict['val_loss']\n",
    "\n",
    "epochs = range(1, len(loss_values) + 1)\n",
    "plt.plot(epochs, loss_values, 'g', label='Training loss')\n",
    "plt.plot(epochs, val_loss_values, 'blue', label='Validation loss')\n",
    "\n",
    "plt.title('Training & validation loss')\n",
    "plt.xlabel('Epochs')\n",
    "plt.ylabel('Loss')\n",
    "plt.legend()\n",
    "plt.show()"
   ]
  },
  {
   "cell_type": "code",
   "execution_count": 63,
   "metadata": {},
   "outputs": [
    {
     "data": {
      "image/png": "[encoded data removed]",
      "text/plain": [
       "<Figure size 432x288 with 1 Axes>"
      ]
     },
     "metadata": {
      "needs_background": "light"
     },
     "output_type": "display_data"
    }
   ],
   "source": [
    "plt.clf()\n",
    "\n",
    "acc_values = model_val_dict['acc'] \n",
    "val_acc_values = model_val_dict['val_acc']\n",
    "\n",
    "plt.plot(epochs, acc_values, 'r', label='Training acc')\n",
    "plt.plot(epochs, val_acc_values, 'blue', label='Validation acc')\n",
    "plt.title('Training & validation accuracy')\n",
    "plt.xlabel('Epochs')\n",
    "plt.ylabel('Loss')\n",
    "plt.legend()\n",
    "plt.show()"
   ]
  },
  {
   "cell_type": "code",
   "execution_count": 64,
   "metadata": {},
   "outputs": [
    {
     "name": "stdout",
     "output_type": "stream",
     "text": [
      "[[20740   848]\n",
      " [  849  2563]]\n"
     ]
    },
    {
     "data": {
      "image/png": "[encoded data removed]",
      "text/plain": [
       "<Figure size 576x576 with 2 Axes>"
      ]
     },
     "metadata": {
      "needs_background": "light"
     },
     "output_type": "display_data"
    }
   ],
   "source": [
    "from sklearn.metrics import confusion_matrix\n",
    "\n",
    "predictions = model.predict_classes(X_test)\n",
    "\n",
    "cm = confusion_matrix(y_test,predictions)\n",
    "print(cm)\n",
    "\n",
    "import seaborn as sns\n",
    "\n",
    "figure = plt.figure(figsize=(8, 8))\n",
    "sns.heatmap(cm, annot=True,cmap=plt.cm.Blues)\n",
    "plt.tight_layout()\n",
    "plt.ylabel('True label')\n",
    "plt.xlabel('Predicted label')\n",
    "plt.show()"
   ]
  },
  {
   "cell_type": "code",
   "execution_count": null,
   "metadata": {},
   "outputs": [],
   "source": [
    "#Still no improvement. Oh Well! Let's compare it to something different..."
   ]
  },
  {
   "cell_type": "markdown",
   "metadata": {},
   "source": [
    "#### Comparison to a Boosted Ensemble Classifier"
   ]
  },
  {
   "cell_type": "code",
   "execution_count": 66,
   "metadata": {},
   "outputs": [
    {
     "name": "stdout",
     "output_type": "stream",
     "text": [
      "Training Accuracy: 93.0%\n",
      "Validation accuracy: 93.14%\n"
     ]
    }
   ],
   "source": [
    "#I thoguht it would be interesting to compare the performance of the neural network to a boosted ensemble method \n",
    "\n",
    "from sklearn.ensemble import AdaBoostClassifier\n",
    "\n",
    "dt_clf = AdaBoostClassifier()\n",
    "dt_clf.fit(X_train, y_train)\n",
    "training_preds = dt_clf.predict(X_train)\n",
    "val_preds = dt_clf.predict(X_test)\n",
    "training_accuracy = accuracy_score(y_train, training_preds)\n",
    "val_accuracy = accuracy_score(y_test, val_preds)\n",
    "\n",
    "print(\"Training Accuracy: {:.4}%\".format(training_accuracy * 100))\n",
    "print(\"Validation accuracy: {:.4}%\".format(val_accuracy * 100))"
   ]
  },
  {
   "cell_type": "code",
   "execution_count": 67,
   "metadata": {},
   "outputs": [
    {
     "data": {
      "text/plain": [
       "<matplotlib.colorbar.Colorbar at 0x7fa0c669cc88>"
      ]
     },
     "execution_count": 67,
     "metadata": {},
     "output_type": "execute_result"
    },
    {
     "data": {
      "image/png": "[encoded data removed]",
      "text/plain": [
       "<Figure size 432x288 with 2 Axes>"
      ]
     },
     "metadata": {
      "needs_background": "light"
     },
     "output_type": "display_data"
    }
   ],
   "source": [
    "#Confusion Matrix for AdaBoost\n",
    "\n",
    "cnf_matrix = confusion_matrix(val_preds, y_test)\n",
    "plt.imshow(cnf_matrix,  cmap=plt.cm.Blues) #Create the basic matrix.\n",
    "\n",
    "#Add title and Axis Labels\n",
    "plt.title('Confusion Matrix')\n",
    "plt.ylabel('True label')\n",
    "plt.xlabel('Predicted label')\n",
    "\n",
    "#Add appropriate Axis Scales\n",
    "class_names = ['Fail','Success'] #Get class labels to add to matrix\n",
    "tick_marks = np.arange(len(class_names))\n",
    "plt.xticks(tick_marks, class_names, rotation=45)\n",
    "plt.yticks(tick_marks, class_names)\n",
    "\n",
    "#Add Labels to Each Cell\n",
    "thresh = cnf_matrix.max() / 2. #Used for text coloring below\n",
    "#Here we iterate through the confusion matrix and append labels to our visualization.\n",
    "for i, j in itertools.product(range(cnf_matrix.shape[0]), range(cnf_matrix.shape[1])):\n",
    "        plt.text(j, i, cnf_matrix[i, j],\n",
    "                 horizontalalignment=\"center\",\n",
    "                 color=\"white\" if cnf_matrix[i, j] > thresh else \"black\")\n",
    "\n",
    "plt.colorbar()"
   ]
  },
  {
   "cell_type": "code",
   "execution_count": null,
   "metadata": {},
   "outputs": [],
   "source": [
    "#Here we get a very similar result as well! \n",
    "#Our NN performed ever so slightly better, but my guess is this might match it if we optimized it with GridSearch."
   ]
  },
  {
   "cell_type": "markdown",
   "metadata": {},
   "source": [
    "---\n",
    "## Interpret"
   ]
  },
  {
   "cell_type": "code",
   "execution_count": 65,
   "metadata": {},
   "outputs": [
    {
     "name": "stdout",
     "output_type": "stream",
     "text": [
      "25000/25000 [==============================] - 3s 119us/step\n",
      "25000/25000 [==============================] - 3s 121us/step\n",
      "25000/25000 [==============================] - 3s 123us/step\n",
      "Basic NN:  test loss, test acc:  [0.36696315479278563, 0.93212]\n",
      "L1 NN:  test loss, test acc:  [0.34169606274604797, 0.93212]\n",
      "L2 NN:  test loss, test acc:  [0.3669605122852325, 0.93212]\n"
     ]
    }
   ],
   "source": [
    "results_basic = model.evaluate(X_test, y_test)\n",
    "results_L1 = model_L1.evaluate(X_test, y_test)\n",
    "results_L2 = model_L2.evaluate(X_test, y_test)\n",
    "\n",
    "print('Basic NN: ',\"test loss, test acc: \", results_basic)\n",
    "print('L1 NN: ',\"test loss, test acc: \", results_L1)\n",
    "print('L2 NN: ',\"test loss, test acc: \", results_L2)"
   ]
  },
  {
   "cell_type": "code",
   "execution_count": 80,
   "metadata": {},
   "outputs": [
    {
     "data": {
      "text/plain": [
       "Text(0.5, 1.0, 'Flight Delay Model Test Accuracy')"
      ]
     },
     "execution_count": 80,
     "metadata": {},
     "output_type": "execute_result"
    },
    {
     "data": {
      "image/png": "[encoded data removed]",
      "text/plain": [
       "<Figure size 864x432 with 1 Axes>"
      ]
     },
     "metadata": {
      "needs_background": "light"
     },
     "output_type": "display_data"
    }
   ],
   "source": [
    "model_name = ['Basic NN','L1 NN','L2 NN','AdaBoost']\n",
    "model_acc = [.9321,.9321,.9321,.9314]\n",
    "\n",
    "import matplotlib.pyplot as plt\n",
    "\n",
    "\n",
    "fig, ax  = plt.subplots(figsize = (12,6))\n",
    "ax.set_ylim([.93, .933],auto=False)    \n",
    "ax.bar(model_name,model_acc)\n",
    "plt.title('Flight Delay Model Test Accuracy',fontsize = 20)"
   ]
  },
  {
   "cell_type": "markdown",
   "metadata": {},
   "source": [
    "## Ultimately, our Neural Network was able to predict Arrival Delays with ~93% accuracy. \n",
    "\n",
    "It does not appear as though the model would benefit from additional training time, as the accuracy seems to stall after only a few epochs.\n",
    "\n",
    "The network performed slightly better than, but similar to, the boosted ensemble model."
   ]
  }
 ],
 "metadata": {
  "kernelspec": {
   "display_name": "learn-env",
   "language": "python",
   "name": "learn-env"
  },
  "language_info": {
   "codemirror_mode": {
    "name": "ipython",
    "version": 3
   },
   "file_extension": ".py",
   "mimetype": "text/x-python",
   "name": "python",
   "nbconvert_exporter": "python",
   "pygments_lexer": "ipython3",
   "version": "3.6.6"
  }
 },
 "nbformat": 4,
 "nbformat_minor": 2
}
